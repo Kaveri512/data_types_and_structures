{
  "nbformat": 4,
  "nbformat_minor": 0,
  "metadata": {
    "colab": {
      "provenance": []
    },
    "kernelspec": {
      "name": "python3",
      "display_name": "Python 3"
    },
    "language_info": {
      "name": "python"
    }
  },
  "cells": [
    {
      "cell_type": "markdown",
      "source": [
        "# Data Types and Structures"
      ],
      "metadata": {
        "id": "gxTrGy9QlSBw"
      }
    },
    {
      "cell_type": "markdown",
      "source": [
        "# Theory Questions"
      ],
      "metadata": {
        "id": "eBcaCXVsZ2Ms"
      }
    },
    {
      "cell_type": "markdown",
      "source": [],
      "metadata": {
        "id": "t82IDJiNlX60"
      }
    },
    {
      "cell_type": "markdown",
      "source": [
        "1. What are data structures and why are they important?\n",
        "   - Data structures are ways to store and organize data so it can be used efficiently. In Python, they help manage and process data in an organized way.\n",
        "    Data structures are important as they\n",
        "    •\tOrganize data efficiently\n",
        "    •\tImprove performance in programs\n",
        "    •\tMake code easier to understand and maintain\n",
        "    •\tEssential for problem-solving and algorithms\n",
        "2. Explain the difference between mutable and immutable data types with examples.\n",
        "   - In Python, mutability refers to whether or not an object can be changed after it is created.\n",
        "     The Mutable data types can be changed after creation, for example, list, bytearray, dictionary, set.\n",
        "     Example:\n",
        "     my_list = [1, 2, 3]\n",
        "     my_list[0] = 10  # Changing the first element\n",
        "     print(my_list)   # Output: [10, 2, 3]\n",
        "     \n",
        "     Immutable data types cannot be changed after creation. Any change in them results in a new object. For example, tuple, string, integer, float, boolean, bytes.\n",
        "     Example:\n",
        "     my_str = \"hello\"\n",
        "     my_str = my_str.replace(\"h\", \"y\")\n",
        "     print(my_str)  # Output: \"yello\"\n",
        "3. What are the main differences between lists and tuples in Python?\n",
        "   - Lists and tuples are both used to store collections of items in Python, but they have some key differences. The main difference lies in mutability: lists are mutable, meaning their contents can be changed after creation, such as adding, removing, or modifying elements. Tuples, on the other hand, are immutable, which means once they are created, their values cannot be changed. This makes tuples more secure and ideal for storing constant data.\n",
        "    Additionally, tuples are generally faster and use less memory than lists because of their immutability, which makes them suitable for performance-critical applications. Also, tuples can be used as keys in dictionaries, while lists cannot because they are not hashable. In summary, choose lists when you need a flexible, modifiable collection and tuples when you need a fixed, unchangeable group of items.\n",
        "4. Describe how dictionaries store data.\n",
        "  - In Python, a dictionary stores data as key-value pairs using a structure called a hash table. When you add a key, Python converts it into a unique number using a hash function and uses that number to determine where to store the value in memory. This allows for very fast data access, as Python can quickly find the value by hashing the key again.\n",
        "\n",
        "  Keys in a dictionary must be unique and immutable (like strings, numbers, or tuples), while values can be of any type. Although dictionaries are unordered in older versions, from Python 3.7 onward, they preserve the insertion order. This makes dictionaries ideal for quick lookups and storing structured data.\n",
        "5. Why might you use a set instead of a list in Python?\n",
        "  - You might use a set instead of a list in Python when you need to store unique elements and perform fast membership testing (i.e., checking if an item exists).\n",
        "\n",
        "  Key Reasons to Use a Set Over a List:\n",
        "  i) Uniqueness:\n",
        "     Sets automatically remove duplicate values. If you add the same item multiple times, it only appears once.\n",
        "\n",
        "  ii) Faster Lookups:\n",
        "     Sets use a hash table internally, so checking if an item exists (in keyword) is much faster than in a list, especially with large data.\n",
        "\n",
        "  iii) Efficient Set Operations:\n",
        "     Sets support useful operations like union, intersection, difference, which are helpful when comparing or combining datasets.\n",
        "6. What is a string in Python, and how is it different from a list?\n",
        "  - A string in Python is an immutable sequence of characters used to represent text, like \"hello\".\n",
        "  A list is a mutable sequence that can hold elements of any data type, like [1, \"apple\", True].\n",
        "  Key difference:\n",
        "  i) Strings cannot be changed after creation, lists can.\n",
        "  ii) Strings store only text, lists can store mixed types.\n",
        "7. How do tuples ensure data integrity in Python?\n",
        "   - Tuples ensure data integrity in python as they are immutable. Once a value is assigned to a tuple, it cannot be reassigned to it. doing this will result in the creation of a new value.\n",
        "8. What is a hash table? How does it relate to dictionaries in python?\n",
        "  - A hash table is a data structure that stores key-value pairs and uses a hash function to quickly locate a value based on its key.\n",
        "  In Python, a dictionary (dict) is an implementation of a hash table.\n",
        "  How it works:\n",
        "  i) Keys are hashed (converted to a unique number).\n",
        "  ii) The hash is used to find the index where the value is stored.\n",
        "  iii) Lookup, insert, and delete operations are very fast (average O(1) time).\n",
        "9. Can lists contain different data types in Python?\n",
        "   - Yes, lists can contain different data types in python.\n",
        "10. Explain why strings are immutable in python.\n",
        "    - Strings are immutable in Python for several important reasons:\n",
        "\n",
        "      1. Efficiency and Performance\n",
        "      i) Python reuses string objects to save memory (called string interning).\n",
        "      ii) If strings were mutable, this optimization wouldn't be safe.\n",
        "\n",
        "      2. Hashability\n",
        "      i) Immutable objects can be hashed and used as dictionary keys or set elements.\n",
        "      ii) If strings were mutable, their hash value could change, breaking the data structure.\n",
        "\n",
        "      3. Safety and Predictability\n",
        "      i) Immutability prevents accidental changes to strings that are shared across code.\n",
        "      ii) This leads to fewer bugs and more reliable code.\n",
        "\n",
        "      4. Design Simplicity\n",
        "      i) Immutable strings simplify language implementation and string operations (like slicing, copying, etc.).\n",
        "\n",
        "      In short, strings are immutable to ensure performance, safety, and consistency in how Python handles text.\n",
        "11. What advantages do dictionaries offer over lists for certain tasks?\n",
        "    - Dictionaries are better than lists when you need:\n",
        "      i) Fast lookups using unique keys (O(1) time).\n",
        "      ii) Key-value pairs for clearer, more descriptive data.\n",
        "      iii) No duplicates in identifiers (keys are unique).\n",
        "      iv) Unordered data access, where order doesn't matter.\n",
        "      Lists are better when:\n",
        "      i) Order matters.\n",
        "      ii) You access items by position.\n",
        "      iii) You work with simple, sequential data.\n",
        "      Use dictionaries for key-based, fast, and organized data access. Use lists for ordered, indexed collections.\n",
        "12. Describe a scenario where using a tuple would be preferable over a list?\n",
        "    - A tuple is preferable over a list when you need an immutable (unchangeable) sequence of values. Here's a common scenario:\n",
        "    Imagine a function that calculates the coordinates of a point (like x and y) and returns them:\n",
        "    def get_coordinates():\n",
        "    x = 5\n",
        "    y = 10\n",
        "    return (x, y)\n",
        "    \n",
        "     A tuple would be used here because:\n",
        "     i) The coordinates are a fixed set of values.\n",
        "     ii) You do not want them to be accidentally modified.\n",
        "     iii) Tuples are faster and more memory-efficient than lists.\n",
        "     coords = get_coordinates()\n",
        "     print(coords[0])  # 5\n",
        "     print(coords[1])  # 10\n",
        "\n",
        "     Other Use Cases:\n",
        "     i) As keys in dictionaries (tuples can be keys, lists can’t because they are mutable).\n",
        "     ii) For fixed configurations or constants.\n",
        "     iii) When working with heterogeneous data (e.g., (name, age, country)).\n",
        "    \n",
        "     A tuple is used when it represents a fixed structure and its data should not be changed.\n",
        "\n",
        "13. How do sets handle duplicate values in Python?\n",
        "    - Sets automatically remove duplicate values in python as they are unordered collection of unique elements. If duplicate items are added in a set, only one instance is kept.\n",
        "    Example:\n",
        "    my_set = {1, 2, 2, 3, 4, 4, 4}\n",
        "    print(my_set)\n",
        "    Output:\n",
        "    {1, 2, 3, 4}\n",
        "\n",
        "14. How does the “in” keyword work differently for lists and dictionaries?\n",
        "    - The in keyword is used to check for membership, but it behaves differently for lists and dictionaries in Python:\n",
        "    my_list = [1, 2, 3]\n",
        "    print(2 in my_list)      # True\n",
        "    print(4 in my_list)      # False\n",
        "     i) In a list: in checks if a value exists.\n",
        "     ii) In a dictionary: in checks if a key exists, not a value.\n",
        "     iii) Dictionary checks are faster due to hashing.\n",
        "\n",
        "15. Can you modify the elements of a tuple? Explain why or why not?\n",
        "    - No, elements of a tuple cannot be modified because tuples are immutable, so once created, their contents cannot be changed. We cannot add, remove or change items in a tuple. It is so because the data is safer to use when it remains constant as tuples can be used as dictionary keys and in sets, unlike list.\n",
        "16. What is a nested dictionary, and give an example of its use case?\n",
        "    - A nested dictionary is a dictionary inside another dictionary. It allows us to organize data in a hierarchical or grouped structure.\n",
        "     \n",
        "     A nested dictionary is useful when managing structured data, such as:\n",
        "    -Student records (name → info)\n",
        "    -Inventory systems (item → details)\n",
        "    -APIs or JSON data (response → nested info)\n",
        "\n",
        "    Example:\n",
        "    students = {\n",
        "    \"Alice\": {\"age\": 20, \"grade\": \"A\"},\n",
        "    \"Bob\": {\"age\": 22, \"grade\": \"B\"},\n",
        "}\n",
        "    Here, each student is a key, and their details are stored in another dictionary.\n",
        "\n",
        "    print(students[\"Alice\"][\"grade\"])  # Output: A\n",
        "\n",
        "17. Describe the time complexity of accessing elements in a dictionary.\n",
        "    - Accessing an element in a dictionary has an average time complexity of O(1) (constant time). It is because python dictionaries use a hash table under the hood. Keys are hashed, allowing direct access to the value without searching through all items.\n",
        "    Example:\n",
        "    my_dict = {'a': 1, 'b': 2}\n",
        "    print(my_dict['b'])  # O(1) access\n",
        "\n",
        "18. In what situations are lists preferred over dictionaries?\n",
        "    - Lists are preferred over dictionaries when:\n",
        "    1. Order matters\n",
        "     i) Lists keep items in the order they were added.\n",
        "     ii) Useful for sequenced data like steps, queues, or timelines.\n",
        "\n",
        "    2. You need indexed access\n",
        "     - Access elements by position: my_list[0], my_list[1], etc.\n",
        "\n",
        "    3. Data is homogeneous\n",
        "     - All elements are similar (e.g., a list of numbers, names, etc.).\n",
        "\n",
        "    4. You need to sort or slice data\n",
        "     - Lists support sorting (sort()) and slicing (list[1:3]) easily.\n",
        "\n",
        "    5. You do not need key-value pairs\n",
        "      - If there is no need for labels or lookups by name, lists are simpler.\n",
        "\n",
        "Example Use Cases:\n",
        "A list of student names: [\"Alice\", \"Bob\", \"Charlie\"]\n",
        "\n",
        "Storing numbers to calculate average: [70, 80, 90]\n",
        "\n",
        "Looping through items in order\n",
        "\n",
        "19. Why are dictionaries considered unordered, and how does that affect data retrieval?\n",
        "- Traditionally, dictionaries were considered unordered because:\n",
        "   - Before Python 3.7, dictionaries did not guarantee the order of items.\n",
        "   - From Python 3.7+, they preserve insertion order, but they’re still not meant for ordered operations like sorting or indexing.\n",
        "- How This Affects Data Retrieval:\n",
        "  - Key-based access only: You can’t retrieve values by position like you can with a list (dict[0] won’t work).\n",
        "  - No guaranteed sort order: Even though insertion order is preserved, you shouldn't rely on it for sorting or sequencing.\n",
        "\n",
        "Example:\n",
        "\n",
        "Copy\n",
        "Edit\n",
        "my_dict = {'b': 2, 'a': 1}\n",
        "print(my_dict)  # Output: {'b': 2, 'a': 1} (insertion order in Python 3.7+)\n",
        "\n",
        "But you still access data by key, not by order:\n",
        "\n",
        "\n",
        "Copy\n",
        "Edit\n",
        "print(my_dict['a'])  # Works\n",
        "print(my_dict[0])    # Error\n",
        "\n",
        "Summary:\n",
        "Dictionaries are considered unordered because:\n",
        "- They are accessed by key, not position.\n",
        "- You can't rely on a fixed order for operations like sorting or indexing.\n",
        "\n",
        "From Python 3.7+, they preserve insertion order, but they're still not a substitute for lists when order matters.\n",
        "\n",
        "20. Explain the difference between a list and a dictionary in terms of data retrieval.\n",
        "- A list and a dictionary differ in how they retrieve data. In a list, data is accessed using index positions, which are always integers starting from 0. This means you retrieve elements based on their order in the list, such as my_list[0] to get the first item. Lists are ideal when you need to maintain a specific order or work with sequences. In contrast, a dictionary retrieves data using unique keys, not positions. You access values with a key like my_dict['name'], which makes dictionaries suitable for labeled or structured data. While both allow fast access—O(1) time complexity on average—the key distinction is that lists are ordered and index-based, while dictionaries are unordered (logically) and key-based, allowing for more descriptive and flexible data access."
      ],
      "metadata": {
        "id": "mEtrd_DGwL-t"
      }
    },
    {
      "cell_type": "markdown",
      "source": [
        "# Practical Questions"
      ],
      "metadata": {
        "id": "1cRetRWoZtF5"
      }
    },
    {
      "cell_type": "code",
      "source": [
        "# 1. Write a code to create a string with your name and print it.\n",
        "name = \"Kiv\"\n",
        "print(\"My name is\", name)"
      ],
      "metadata": {
        "colab": {
          "base_uri": "https://localhost:8080/"
        },
        "collapsed": true,
        "id": "zQDtr1WSZxNa",
        "outputId": "1c5b6aee-04b6-442e-ce0a-f0ca1b643dee"
      },
      "execution_count": null,
      "outputs": [
        {
          "output_type": "stream",
          "name": "stdout",
          "text": [
            "My name is Kiv\n"
          ]
        }
      ]
    },
    {
      "cell_type": "code",
      "source": [
        "# 2. Write a code to find the length of the string \"Hello World\".\n",
        "text = \"Hello World\"\n",
        "length = len(text)\n",
        "print(\"The length of the text is\", length)"
      ],
      "metadata": {
        "colab": {
          "base_uri": "https://localhost:8080/"
        },
        "collapsed": true,
        "id": "5Fb-EMR5ZlwI",
        "outputId": "ff38c54e-2674-404e-e05c-f0ad79bf9206"
      },
      "execution_count": null,
      "outputs": [
        {
          "output_type": "stream",
          "name": "stdout",
          "text": [
            "The length of the text is 11\n"
          ]
        }
      ]
    },
    {
      "cell_type": "code",
      "source": [
        "# 3. Write a code to slice the first 3 characters from the string \"Python Programming\".\n",
        "text = \"Python Programming\"\n",
        "sliced_text = text[ :3]\n",
        "print(\"The sliced text is\", sliced_text)"
      ],
      "metadata": {
        "colab": {
          "base_uri": "https://localhost:8080/"
        },
        "id": "j5-CZJ3pfUtA",
        "outputId": "905da1bf-3f01-4461-e3ea-1bd117f674b4"
      },
      "execution_count": null,
      "outputs": [
        {
          "output_type": "stream",
          "name": "stdout",
          "text": [
            "The sliced text is Pyt\n"
          ]
        }
      ]
    },
    {
      "cell_type": "code",
      "source": [
        "# 4. Write a code to convert the string \"hello\" to uppercase.\n",
        "text = \"hello\"\n",
        "uppercase_text = text.upper()\n",
        "print(\"Uppercase:\", uppercase_text)"
      ],
      "metadata": {
        "colab": {
          "base_uri": "https://localhost:8080/"
        },
        "id": "Ji1AORVkgPqD",
        "outputId": "810adc98-a5d4-4ea9-b237-f5326eda7cf4"
      },
      "execution_count": null,
      "outputs": [
        {
          "output_type": "stream",
          "name": "stdout",
          "text": [
            "Uppercase: HELLO\n"
          ]
        }
      ]
    },
    {
      "cell_type": "code",
      "source": [
        "# 5. Write a code to replace the word \"apple\" with \"orange\" in the string \"I like apple\".\n",
        "text = \"I like apple\"\n",
        "new_text = text.replace(\"apple\", \"orange\")\n",
        "print(\"Updated string\", new_text)"
      ],
      "metadata": {
        "colab": {
          "base_uri": "https://localhost:8080/"
        },
        "id": "B_y_m3S1g5LV",
        "outputId": "ee9c2861-d3e3-409d-e8b0-c6bf3833f88e"
      },
      "execution_count": null,
      "outputs": [
        {
          "output_type": "stream",
          "name": "stdout",
          "text": [
            "Updated string I like orange\n"
          ]
        }
      ]
    },
    {
      "cell_type": "code",
      "source": [
        "# 6. Write a code to create a list with numbers 1 to 5 and print it.\n",
        "numbers = [1, 2, 3, 4, 5]\n",
        "print(\"The list is\", numbers)"
      ],
      "metadata": {
        "colab": {
          "base_uri": "https://localhost:8080/"
        },
        "collapsed": true,
        "id": "ZG8fcgmhhsa4",
        "outputId": "780dcfbe-9e56-47c4-fe20-04b4c3e98832"
      },
      "execution_count": null,
      "outputs": [
        {
          "output_type": "stream",
          "name": "stdout",
          "text": [
            "The list is [1, 2, 3, 4, 5]\n"
          ]
        }
      ]
    },
    {
      "cell_type": "code",
      "source": [
        "# 7. Write a code to append the number 10 to the list [1, 2, 3, 4].\n",
        "numbers = [1, 2, 3, 4]\n",
        "numbers.append(10)\n",
        "print(\"Updated list\", numbers)"
      ],
      "metadata": {
        "colab": {
          "base_uri": "https://localhost:8080/"
        },
        "id": "U7jXIkhGiKg_",
        "outputId": "4ea89b7b-73b6-44ab-c9c1-05d087d50776"
      },
      "execution_count": null,
      "outputs": [
        {
          "output_type": "stream",
          "name": "stdout",
          "text": [
            "Updated list [1, 2, 3, 4, 10]\n"
          ]
        }
      ]
    },
    {
      "cell_type": "code",
      "source": [
        "# 8. Write a code to remove the number 3 from the list [1, 2, 3, 4, 5].\n",
        "numbers = [1, 2, 3, 4, 5]\n",
        "numbers.remove(3)\n",
        "print(\"Updated list\", numbers)"
      ],
      "metadata": {
        "colab": {
          "base_uri": "https://localhost:8080/"
        },
        "id": "lrd6czONjljO",
        "outputId": "1f602a42-2e9c-4b25-b105-ef2b20db20c3"
      },
      "execution_count": null,
      "outputs": [
        {
          "output_type": "stream",
          "name": "stdout",
          "text": [
            "Updated list [1, 2, 4, 5]\n"
          ]
        }
      ]
    },
    {
      "cell_type": "code",
      "source": [
        "# 9. Write a code to access the second element in the list ['a', 'b', 'c', 'd'].\n",
        "list = ['a', 'b', 'c', 'd']\n",
        "second_element = list[1]\n",
        "print(\"The second element is\", second_element)"
      ],
      "metadata": {
        "colab": {
          "base_uri": "https://localhost:8080/"
        },
        "collapsed": true,
        "id": "LxH9XmEJj-Lp",
        "outputId": "610ca476-134e-4d5b-fdd8-c775327ed245"
      },
      "execution_count": null,
      "outputs": [
        {
          "output_type": "stream",
          "name": "stdout",
          "text": [
            "The second element is b\n"
          ]
        }
      ]
    },
    {
      "cell_type": "code",
      "source": [
        "# 10. Write a code to reverse the list [10, 20, 30, 40, 50].\n",
        "list = [10, 20, 30, 40, 50]\n",
        "list.reverse()\n",
        "print(\"The reversed list is\", list)"
      ],
      "metadata": {
        "colab": {
          "base_uri": "https://localhost:8080/"
        },
        "id": "LxFcbDyUlDwY",
        "outputId": "9eee1716-7df6-4d19-e31e-5b2bc6a54e49"
      },
      "execution_count": null,
      "outputs": [
        {
          "output_type": "stream",
          "name": "stdout",
          "text": [
            "The reversed list is [50, 40, 30, 20, 10]\n"
          ]
        }
      ]
    },
    {
      "cell_type": "code",
      "source": [
        "# 11. Write a code to create a tuple with the elements 100, 200, 300 and print it.\n",
        "numbers = (100, 200, 300)\n",
        "print(\"The tuple is\", numbers)"
      ],
      "metadata": {
        "colab": {
          "base_uri": "https://localhost:8080/"
        },
        "id": "dKYNtBielilH",
        "outputId": "f52e1ec2-b81d-45e9-e3e8-af424600ca80"
      },
      "execution_count": null,
      "outputs": [
        {
          "output_type": "stream",
          "name": "stdout",
          "text": [
            "The tuple is (100, 200, 300)\n"
          ]
        }
      ]
    },
    {
      "cell_type": "code",
      "source": [
        "# 12.  Write a code to access the second-to-last element of the tuple ('red', 'green', 'blue', 'yellow').\n",
        "colours = ('red', 'green', 'blue', 'yellow')\n",
        "second_to_last = colours[-2]\n",
        "print(\"The second to last element is:\", second_to_last)"
      ],
      "metadata": {
        "colab": {
          "base_uri": "https://localhost:8080/"
        },
        "id": "wk5o0fZ-nhou",
        "outputId": "652a5769-ebd3-4fba-fab9-d85c48fc0797"
      },
      "execution_count": null,
      "outputs": [
        {
          "output_type": "stream",
          "name": "stdout",
          "text": [
            "The second to last element is: blue\n"
          ]
        }
      ]
    },
    {
      "cell_type": "code",
      "source": [
        "# 13. Write a code to find the minimum number in the tuple (10, 20, 5, 15).\n",
        "numbers = (10, 20, 5, 15)\n",
        "minimum = min(numbers)\n",
        "print(\"The minimum value is:\", minimum)\n"
      ],
      "metadata": {
        "colab": {
          "base_uri": "https://localhost:8080/"
        },
        "id": "88CPAKgno7IN",
        "outputId": "a6aabc2e-4094-431b-853c-916442481854"
      },
      "execution_count": null,
      "outputs": [
        {
          "output_type": "stream",
          "name": "stdout",
          "text": [
            "The minimum value is: 5\n"
          ]
        }
      ]
    },
    {
      "cell_type": "code",
      "source": [
        "# 14. Write a code to find the index of the element \"cat\" in the tuple ('dog', 'cat', 'rabbit').\n",
        "animals = ('dog', 'cat', 'rabbit')\n",
        "cat_index = animals.index('cat')\n",
        "print(\"The index of cat is\", cat_index)"
      ],
      "metadata": {
        "colab": {
          "base_uri": "https://localhost:8080/"
        },
        "id": "vmu1O_rEpoao",
        "outputId": "be2f91d5-df14-4356-c0eb-3851e9498dbc"
      },
      "execution_count": null,
      "outputs": [
        {
          "output_type": "stream",
          "name": "stdout",
          "text": [
            "The index of cat is 1\n"
          ]
        }
      ]
    },
    {
      "cell_type": "code",
      "source": [
        "# 15. Write a code to create a tuple containing three different fruits and check if \"kiwi\" is in it.\n",
        "fruits = ('apple', 'banana', 'orange')\n",
        "if 'kiwi' in fruits:\n",
        "    print(\"Kiwi is in the tuple.\")\n",
        "else:\n",
        "    print(\"Kiwi is not in the tuple.\")\n"
      ],
      "metadata": {
        "colab": {
          "base_uri": "https://localhost:8080/"
        },
        "id": "f4iyW61RrTXb",
        "outputId": "e8fb7865-0f8b-432b-cc11-11b9caad6693"
      },
      "execution_count": null,
      "outputs": [
        {
          "output_type": "stream",
          "name": "stdout",
          "text": [
            "Kiwi is not in the tuple.\n"
          ]
        }
      ]
    },
    {
      "cell_type": "code",
      "source": [
        "# 16.  Write a code to create a set with the elements 'a', 'b', 'c' and print it.\n",
        "letters = {'a', 'b', 'c'}\n",
        "print(\"The set is:\", letters)\n"
      ],
      "metadata": {
        "colab": {
          "base_uri": "https://localhost:8080/"
        },
        "id": "E3gstUQyrm6H",
        "outputId": "7c3f88fa-3b68-40a3-ed21-556bea63fde5"
      },
      "execution_count": null,
      "outputs": [
        {
          "output_type": "stream",
          "name": "stdout",
          "text": [
            "The set is: {'b', 'c', 'a'}\n"
          ]
        }
      ]
    },
    {
      "cell_type": "code",
      "source": [
        "# 17. Write a code to clear all elements from the set {1, 2, 3, 4, 5}.\n",
        "numbers = {1, 2, 3, 4, 5}\n",
        "numbers.clear()\n",
        "print(\"The set after clearing:\", numbers)"
      ],
      "metadata": {
        "colab": {
          "base_uri": "https://localhost:8080/"
        },
        "id": "MSfkiktksAsR",
        "outputId": "354817db-4241-445a-bd33-8849a1b82350"
      },
      "execution_count": null,
      "outputs": [
        {
          "output_type": "stream",
          "name": "stdout",
          "text": [
            "The set after clearing: set()\n"
          ]
        }
      ]
    },
    {
      "cell_type": "code",
      "source": [
        "# 18. Write a code to remove the element 4 from the set {1, 2, 3, 4}.\n",
        "numbers = {1, 2, 3, 4}\n",
        "numbers.remove(4)\n",
        "print(\"Updated set:\", numbers)\n"
      ],
      "metadata": {
        "colab": {
          "base_uri": "https://localhost:8080/"
        },
        "id": "mqmwGwkasUyo",
        "outputId": "42b16d3b-abaa-44ae-db58-0ae6cdba90ef"
      },
      "execution_count": null,
      "outputs": [
        {
          "output_type": "stream",
          "name": "stdout",
          "text": [
            "Updated set: {1, 2, 3}\n"
          ]
        }
      ]
    },
    {
      "cell_type": "code",
      "source": [
        "# 19. Write a code to find the union of two sets {1, 2, 3} and {3, 4, 5}.\n",
        "set1 = {1, 2, 3}\n",
        "set2 = {3, 4, 5}\n",
        "union_set = set1.union(set2)\n",
        "print(\"Union of the sets:\", union_set)"
      ],
      "metadata": {
        "colab": {
          "base_uri": "https://localhost:8080/"
        },
        "id": "Ixr-0871slBI",
        "outputId": "91532b05-58e7-47e1-ecd1-056bcf97765e"
      },
      "execution_count": null,
      "outputs": [
        {
          "output_type": "stream",
          "name": "stdout",
          "text": [
            "Union of the sets: {1, 2, 3, 4, 5}\n"
          ]
        }
      ]
    },
    {
      "cell_type": "code",
      "source": [
        "# 20. Write a code to find the intersection of two sets {1, 2, 3} and {2, 3, 4}.\n",
        "set1 = {1, 2, 3}\n",
        "set2 = {2, 3, 4}\n",
        "intersection_set = set1.intersection(set2)\n",
        "print(\"Intersection of the sets:\", intersection_set)"
      ],
      "metadata": {
        "colab": {
          "base_uri": "https://localhost:8080/"
        },
        "id": "IhEOaMWzs6DX",
        "outputId": "e81bbf1f-4319-48f5-c43d-0973fbe5ad1c"
      },
      "execution_count": null,
      "outputs": [
        {
          "output_type": "stream",
          "name": "stdout",
          "text": [
            "Intersection of the sets: {2, 3}\n"
          ]
        }
      ]
    },
    {
      "cell_type": "code",
      "source": [
        "# 21. Write a code to create a dictionary with the keys \"name\", \"age\", and \"city\", and print it.\n",
        "person = {\n",
        "    \"name\": \"Alice\",\n",
        "    \"age\": 30,    \"city\": \"New York\"\n",
        "}\n",
        "print(person)\n"
      ],
      "metadata": {
        "colab": {
          "base_uri": "https://localhost:8080/"
        },
        "id": "64UP7lpaQTJw",
        "outputId": "e3481bb1-734e-4cf2-d687-d3265a2a9b66"
      },
      "execution_count": null,
      "outputs": [
        {
          "output_type": "stream",
          "name": "stdout",
          "text": [
            "{'name': 'Alice', 'age': 30, 'city': 'New York'}\n"
          ]
        }
      ]
    },
    {
      "cell_type": "code",
      "source": [
        "# 22. Write a code to add a new key-value pair \"country\": \"USA\" to the dictionary {'name': 'John', 'age': 25}.\n",
        "person = {'name': 'John', 'age': 25}\n",
        "person['country'] = 'USA'\n",
        "print(person)\n"
      ],
      "metadata": {
        "colab": {
          "base_uri": "https://localhost:8080/"
        },
        "id": "gkes0-mTRKbn",
        "outputId": "7b302481-a8a1-4a34-9246-7c38ce4cf121"
      },
      "execution_count": null,
      "outputs": [
        {
          "output_type": "stream",
          "name": "stdout",
          "text": [
            "{'name': 'John', 'age': 25, 'country': 'USA'}\n"
          ]
        }
      ]
    },
    {
      "cell_type": "code",
      "source": [
        "# 23. Write a code to access the value associated with the key \"name\" in the dictionary {'name': 'Alice', 'age': 30}.\n",
        "person = {'name': 'Alice', 'age': 30}\n",
        "name_value = person['name']\n",
        "print(name_value)\n"
      ],
      "metadata": {
        "colab": {
          "base_uri": "https://localhost:8080/"
        },
        "id": "tPgx4JBARx9M",
        "outputId": "c97ecf8e-362a-40e2-88c1-f3c54c714ab7"
      },
      "execution_count": null,
      "outputs": [
        {
          "output_type": "stream",
          "name": "stdout",
          "text": [
            "Alice\n"
          ]
        }
      ]
    },
    {
      "cell_type": "code",
      "source": [
        "# 24. Write a code to remove the key \"age\" from the dictionary {'name': 'Bob', 'age': 22, 'city': 'New York'}.\n",
        "person = {'name': 'Bob', 'age': 22, 'city': 'New York'}\n",
        "del person['age']\n",
        "print(person)\n"
      ],
      "metadata": {
        "colab": {
          "base_uri": "https://localhost:8080/"
        },
        "id": "3w5y0ahOSnt6",
        "outputId": "9f0c2685-5eba-4c92-a53d-78beb9d0993f"
      },
      "execution_count": null,
      "outputs": [
        {
          "output_type": "stream",
          "name": "stdout",
          "text": [
            "{'name': 'Bob', 'city': 'New York'}\n"
          ]
        }
      ]
    },
    {
      "cell_type": "code",
      "source": [
        "# 25. Write a code to check if the key \"city\" exists in the dictionary {'name': 'Alice', 'city': 'Paris'}.\n",
        "person = {'name': 'Alice', 'city': 'Paris'}\n",
        "if 'city' in person:\n",
        "    print(\"Key 'city' exists in the dictionary.\")\n",
        "else:\n",
        "    print(\"Key 'city' does not exist in the dictionary.\")\n"
      ],
      "metadata": {
        "colab": {
          "base_uri": "https://localhost:8080/"
        },
        "id": "jxoO8Ih_S8dL",
        "outputId": "405af576-e1ed-4d87-9319-e2f407de165f"
      },
      "execution_count": null,
      "outputs": [
        {
          "output_type": "stream",
          "name": "stdout",
          "text": [
            "Key 'city' exists in the dictionary.\n"
          ]
        }
      ]
    },
    {
      "cell_type": "code",
      "source": [
        "# 26.  Write a code to create a list, a tuple, and a dictionary, and print them all.\n",
        "my_list = [1, 2, 3, 4, 5]\n",
        "my_tuple = ('apple', 'banana', 'cherry')\n",
        "my_dict = {'name': 'Alice', 'age': 30, 'city': 'Paris'}\n",
        "print(\"List:\", my_list)\n",
        "print(\"Tuple:\", my_tuple)\n",
        "print(\"Dictionary:\", my_dict)\n",
        "\n"
      ],
      "metadata": {
        "colab": {
          "base_uri": "https://localhost:8080/"
        },
        "id": "FZszMz6MTWH0",
        "outputId": "e0dc7d4d-824f-4af6-c325-7f76505531d7"
      },
      "execution_count": null,
      "outputs": [
        {
          "output_type": "stream",
          "name": "stdout",
          "text": [
            "List: [1, 2, 3, 4, 5]\n",
            "Tuple: ('apple', 'banana', 'cherry')\n",
            "Dictionary: {'name': 'Alice', 'age': 30, 'city': 'Paris'}\n"
          ]
        }
      ]
    },
    {
      "cell_type": "code",
      "source": [
        "# 27. Write a code to create a list of 5 random numbers between 1 and 100, sort it in ascending order, and print the result. (replaced)\n",
        "\n",
        "import random\n",
        "random_numbers = random.sample(range(1, 101), 5)\n",
        "random_numbers.sort()\n",
        "print(\"Sorted random numbers:\", random_numbers)\n"
      ],
      "metadata": {
        "colab": {
          "base_uri": "https://localhost:8080/"
        },
        "id": "i5XR3lstT6Sq",
        "outputId": "627b19e4-caf8-44f0-92a4-be0a1f01b949"
      },
      "execution_count": null,
      "outputs": [
        {
          "output_type": "stream",
          "name": "stdout",
          "text": [
            "Sorted random numbers: [4, 21, 30, 39, 79]\n"
          ]
        }
      ]
    },
    {
      "cell_type": "code",
      "source": [
        "# 28.  Write a code to create a list with strings and print the element at the third index.\n",
        "fruits = ['apple', 'banana', 'cherry', 'date', 'elderberry']\n",
        "print(\"Element at third index:\", fruits[3])\n"
      ],
      "metadata": {
        "colab": {
          "base_uri": "https://localhost:8080/"
        },
        "id": "wJMj1PnLU7-D",
        "outputId": "08e1abea-c803-4688-8f1e-3da139d419c5"
      },
      "execution_count": null,
      "outputs": [
        {
          "output_type": "stream",
          "name": "stdout",
          "text": [
            "Element at third index: date\n"
          ]
        }
      ]
    },
    {
      "cell_type": "code",
      "source": [
        "# 29.  Write a code to combine two dictionaries into one and print the result.\n",
        "\n",
        "dict1 = {'a': 1, 'b': 2}\n",
        "dict2 = {'c': 3, 'd': 4}\n",
        "combined_dict = {**dict1, **dict2}\n",
        "print(\"Combined Dictionary:\", combined_dict)\n"
      ],
      "metadata": {
        "colab": {
          "base_uri": "https://localhost:8080/"
        },
        "id": "kZxageMaVSGD",
        "outputId": "be4b6bb2-2e8c-4c6f-f960-86eb633ea4c5"
      },
      "execution_count": null,
      "outputs": [
        {
          "output_type": "stream",
          "name": "stdout",
          "text": [
            "Combined Dictionary: {'a': 1, 'b': 2, 'c': 3, 'd': 4}\n"
          ]
        }
      ]
    },
    {
      "cell_type": "code",
      "source": [
        "# 30. Write a code to convert a list of strings into a set.\n",
        "\n",
        "string_list = ['apple', 'banana', 'cherry', 'apple', 'banana']\n",
        "string_set = set(string_list)\n",
        "print(\"Set:\", string_set)\n"
      ],
      "metadata": {
        "colab": {
          "base_uri": "https://localhost:8080/"
        },
        "id": "L-wT0B7JVqJL",
        "outputId": "1acebd55-e2fc-4a38-9cac-62576781c084"
      },
      "execution_count": null,
      "outputs": [
        {
          "output_type": "stream",
          "name": "stdout",
          "text": [
            "Set: {'cherry', 'apple', 'banana'}\n"
          ]
        }
      ]
    }
  ]
}